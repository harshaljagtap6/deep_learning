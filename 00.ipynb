{
 "cells": [
  {
   "cell_type": "code",
   "execution_count": 2,
   "metadata": {},
   "outputs": [],
   "source": [
    "import tensorflow as tf"
   ]
  },
  {
   "cell_type": "code",
   "execution_count": 28,
   "metadata": {},
   "outputs": [
    {
     "name": "stdout",
     "output_type": "stream",
     "text": [
      "tf.Tensor(\n",
      "[[10  7]\n",
      " [ 3  4]\n",
      " [ 2  5]], shape=(3, 2), dtype=int32)\n",
      "tf.Tensor(\n",
      "[[ 3  4]\n",
      " [ 2  5]\n",
      " [10  7]], shape=(3, 2), dtype=int32)\n",
      "tf.Tensor(\n",
      "[[ 2  5]\n",
      " [10  7]\n",
      " [ 3  4]], shape=(3, 2), dtype=int32)\n",
      "tf.Tensor(\n",
      "[[ 2  5]\n",
      " [ 3  4]\n",
      " [10  7]], shape=(3, 2), dtype=int32)\n",
      "tf.Tensor(\n",
      "[[ 2  5]\n",
      " [ 3  4]\n",
      " [10  7]], shape=(3, 2), dtype=int32)\n",
      "tf.Tensor(\n",
      "[[10  7]\n",
      " [ 2  5]\n",
      " [ 3  4]], shape=(3, 2), dtype=int32)\n",
      "tf.Tensor(\n",
      "[[10  7]\n",
      " [ 2  5]\n",
      " [ 3  4]], shape=(3, 2), dtype=int32)\n",
      "tf.Tensor(\n",
      "[[ 3  4]\n",
      " [ 2  5]\n",
      " [10  7]], shape=(3, 2), dtype=int32)\n",
      "tf.Tensor(\n",
      "[[10  7]\n",
      " [ 2  5]\n",
      " [ 3  4]], shape=(3, 2), dtype=int32)\n",
      "tf.Tensor(\n",
      "[[ 2  5]\n",
      " [ 3  4]\n",
      " [10  7]], shape=(3, 2), dtype=int32)\n",
      "tf.Tensor(\n",
      "[[ 2  5]\n",
      " [10  7]\n",
      " [ 3  4]], shape=(3, 2), dtype=int32)\n"
     ]
    }
   ],
   "source": [
    "not_shuffled = tf.constant([[10, 7],\n",
    "                            [3, 4],\n",
    "                            [2, 5]])\n",
    "\n",
    "print(not_shuffled)\n",
    "\n",
    "for i in range(10):\n",
    "    shuffled = tf.random.shuffle(not_shuffled)\n",
    "    print(shuffled)"
   ]
  },
  {
   "cell_type": "code",
   "execution_count": 29,
   "metadata": {},
   "outputs": [
    {
     "name": "stdout",
     "output_type": "stream",
     "text": [
      "None\n",
      "tf.Tensor(\n",
      "[[10  7]\n",
      " [ 3  4]\n",
      " [ 2  5]], shape=(3, 2), dtype=int32)\n",
      "tf.Tensor(\n",
      "[[ 2  5]\n",
      " [10  7]\n",
      " [ 3  4]], shape=(3, 2), dtype=int32)\n",
      "tf.Tensor(\n",
      "[[ 2  5]\n",
      " [10  7]\n",
      " [ 3  4]], shape=(3, 2), dtype=int32)\n",
      "tf.Tensor(\n",
      "[[ 3  4]\n",
      " [ 2  5]\n",
      " [10  7]], shape=(3, 2), dtype=int32)\n",
      "tf.Tensor(\n",
      "[[ 3  4]\n",
      " [ 2  5]\n",
      " [10  7]], shape=(3, 2), dtype=int32)\n",
      "tf.Tensor(\n",
      "[[10  7]\n",
      " [ 3  4]\n",
      " [ 2  5]], shape=(3, 2), dtype=int32)\n",
      "tf.Tensor(\n",
      "[[ 2  5]\n",
      " [10  7]\n",
      " [ 3  4]], shape=(3, 2), dtype=int32)\n",
      "tf.Tensor(\n",
      "[[ 2  5]\n",
      " [10  7]\n",
      " [ 3  4]], shape=(3, 2), dtype=int32)\n",
      "tf.Tensor(\n",
      "[[ 3  4]\n",
      " [10  7]\n",
      " [ 2  5]], shape=(3, 2), dtype=int32)\n",
      "tf.Tensor(\n",
      "[[ 2  5]\n",
      " [10  7]\n",
      " [ 3  4]], shape=(3, 2), dtype=int32)\n"
     ]
    }
   ],
   "source": [
    "print(tf.random.set_seed(42))\n",
    "for i in range(10):\n",
    "    print(tf.random.shuffle(not_shuffled, seed=42))"
   ]
  },
  {
   "cell_type": "code",
   "execution_count": 1,
   "metadata": {},
   "outputs": [
    {
     "name": "stdout",
     "output_type": "stream",
     "text": [
      "2.10.0\n"
     ]
    }
   ],
   "source": [
    "import tensorflow as tf\n",
    "print(tf.__version__)"
   ]
  },
  {
   "cell_type": "code",
   "execution_count": 42,
   "metadata": {},
   "outputs": [
    {
     "data": {
      "text/plain": [
       "<tf.Tensor: shape=(3, 2, 2), dtype=float32, numpy=\n",
       "array([[[-0.7565803 , -0.06854702],\n",
       "        [ 0.07595026, -1.2573844 ]],\n",
       "\n",
       "       [[-0.23193765, -1.8107855 ],\n",
       "        [ 0.09988727, -0.50998646]],\n",
       "\n",
       "       [[-0.7535806 , -0.5716629 ],\n",
       "        [ 0.1480774 , -0.23362991]]], dtype=float32)>"
      ]
     },
     "execution_count": 42,
     "metadata": {},
     "output_type": "execute_result"
    }
   ],
   "source": [
    "var1 = tf.random.Generator.from_seed(42)\n",
    "var1 = var1.normal(shape=(3,2,2))\n",
    "var1"
   ]
  },
  {
   "cell_type": "code",
   "execution_count": 52,
   "metadata": {},
   "outputs": [
    {
     "name": "stdout",
     "output_type": "stream",
     "text": [
      "tf.Tensor(\n",
      "[[[-0.7535806  -0.5716629 ]\n",
      "  [ 0.1480774  -0.23362991]]\n",
      "\n",
      " [[-0.23193765 -1.8107855 ]\n",
      "  [ 0.09988727 -0.50998646]]\n",
      "\n",
      " [[-0.7565803  -0.06854702]\n",
      "  [ 0.07595026 -1.2573844 ]]], shape=(3, 2, 2), dtype=float32)\n"
     ]
    }
   ],
   "source": [
    "print(tf.random.shuffle(var1))"
   ]
  },
  {
   "cell_type": "markdown",
   "metadata": {},
   "source": [
    "Create ones, zeros"
   ]
  },
  {
   "cell_type": "code",
   "execution_count": 57,
   "metadata": {},
   "outputs": [
    {
     "name": "stdout",
     "output_type": "stream",
     "text": [
      "tf.Tensor(\n",
      "[[1. 1.]\n",
      " [1. 1.]\n",
      " [1. 1.]], shape=(3, 2), dtype=float32)\n",
      "tf.Tensor(\n",
      "[[0. 0.]\n",
      " [0. 0.]\n",
      " [0. 0.]], shape=(3, 2), dtype=float32)\n"
     ]
    }
   ],
   "source": [
    "print(tf.ones(shape=(3,2)))\n",
    "print(tf.zeros(shape=(3,2)))"
   ]
  },
  {
   "cell_type": "code",
   "execution_count": 75,
   "metadata": {},
   "outputs": [
    {
     "name": "stdout",
     "output_type": "stream",
     "text": [
      "[ 1  2  3  4  5  6  7  8  9 10 11 12 13 14 15 16 17 18 19 20 21 22 23 24]\n",
      "tf.Tensor([ 1  2  3  4  5  6  7  8  9 10 11 12 13 14 15 16 17 18 19 20 21 22 23 24], shape=(24,), dtype=int32)\n",
      "1\n",
      "tf.Tensor(\n",
      "[[ 1  2  3  4  5  6  7  8]\n",
      " [ 9 10 11 12 13 14 15 16]\n",
      " [17 18 19 20 21 22 23 24]], shape=(3, 8), dtype=int32)\n",
      "2\n"
     ]
    }
   ],
   "source": [
    "import numpy as np\n",
    "a = np.arange(1, 25)\n",
    "print(a)\n",
    "A = tf.constant(a)\n",
    "print(A)\n",
    "print(A.ndim)\n",
    "B = tf.constant(A, shape=(3, 8))\n",
    "print(B)\n",
    "print(B.ndim)"
   ]
  },
  {
   "cell_type": "code",
   "execution_count": 69,
   "metadata": {},
   "outputs": [
    {
     "name": "stdout",
     "output_type": "stream",
     "text": [
      "tf.Tensor(\n",
      "[[[ 1  2  3  4]\n",
      "  [ 5  6  7  8]\n",
      "  [ 9 10 11 12]]\n",
      "\n",
      " [[13 14 15 16]\n",
      "  [17 18 19 20]\n",
      "  [21 22 23 24]]], shape=(2, 3, 4), dtype=int32)\n"
     ]
    }
   ],
   "source": [
    "print(tf.random.shuffle(B))"
   ]
  },
  {
   "cell_type": "code",
   "execution_count": 92,
   "metadata": {},
   "outputs": [
    {
     "name": "stdout",
     "output_type": "stream",
     "text": [
      "tf.Tensor(7, shape=(), dtype=int32)\n",
      "tf.Tensor([1 2 3], shape=(3,), dtype=int32)\n",
      "tf.Tensor(\n",
      "[[1 2 3]\n",
      " [4 5 6]\n",
      " [7 8 9]], shape=(3, 3), dtype=int32)\n",
      "3\n"
     ]
    },
    {
     "data": {
      "text/plain": [
       "<tf.Tensor: shape=(2, 3, 4, 5), dtype=float32, numpy=\n",
       "array([[[[1., 1., 1., 1., 1.],\n",
       "         [1., 1., 1., 1., 1.],\n",
       "         [1., 1., 1., 1., 1.],\n",
       "         [1., 1., 1., 1., 1.]],\n",
       "\n",
       "        [[1., 1., 1., 1., 1.],\n",
       "         [1., 1., 1., 1., 1.],\n",
       "         [1., 1., 1., 1., 1.],\n",
       "         [1., 1., 1., 1., 1.]],\n",
       "\n",
       "        [[1., 1., 1., 1., 1.],\n",
       "         [1., 1., 1., 1., 1.],\n",
       "         [1., 1., 1., 1., 1.],\n",
       "         [1., 1., 1., 1., 1.]]],\n",
       "\n",
       "\n",
       "       [[[1., 1., 1., 1., 1.],\n",
       "         [1., 1., 1., 1., 1.],\n",
       "         [1., 1., 1., 1., 1.],\n",
       "         [1., 1., 1., 1., 1.]],\n",
       "\n",
       "        [[1., 1., 1., 1., 1.],\n",
       "         [1., 1., 1., 1., 1.],\n",
       "         [1., 1., 1., 1., 1.],\n",
       "         [1., 1., 1., 1., 1.]],\n",
       "\n",
       "        [[1., 1., 1., 1., 1.],\n",
       "         [1., 1., 1., 1., 1.],\n",
       "         [1., 1., 1., 1., 1.],\n",
       "         [1., 1., 1., 1., 1.]]]], dtype=float32)>"
      ]
     },
     "execution_count": 92,
     "metadata": {},
     "output_type": "execute_result"
    }
   ],
   "source": [
    "sca = tf.constant(7)\n",
    "print(sca)\n",
    "vector = tf.constant([1,2,3])\n",
    "print(vector)\n",
    "matrix = tf.constant([[1,2,3],[4,5,6],[7,8,9]])\n",
    "print(matrix)\n",
    "tensor = tf.constant([[[1,2,3],[4,5,6],[7,8,9]],[[1,2,3],[4,5,6],[7,8,9]]])\n",
    "print(tensor.ndim)\n",
    "tensor4 = tf.ones(shape=(2,3,4,5))\n",
    "tensor4"
   ]
  },
  {
   "cell_type": "code",
   "execution_count": 94,
   "metadata": {},
   "outputs": [
    {
     "name": "stdout",
     "output_type": "stream",
     "text": [
      "4 (2, 3, 4, 5) tf.Tensor(120, shape=(), dtype=int32)\n"
     ]
    }
   ],
   "source": [
    "print(tensor4.ndim, tensor4.shape, tf.size(tensor4))"
   ]
  },
  {
   "cell_type": "code",
   "execution_count": 100,
   "metadata": {},
   "outputs": [
    {
     "data": {
      "text/plain": [
       "<tf.Tensor: shape=(2, 2), dtype=int32, numpy=\n",
       "array([[10,  7],\n",
       "       [ 3,  4]])>"
      ]
     },
     "execution_count": 100,
     "metadata": {},
     "output_type": "execute_result"
    }
   ],
   "source": [
    "tensor2 = tf.constant([[10, 7],[3, 4]])\n",
    "tensor2"
   ]
  },
  {
   "cell_type": "code",
   "execution_count": 101,
   "metadata": {},
   "outputs": [
    {
     "data": {
      "text/plain": [
       "<tf.Tensor: shape=(2,), dtype=int32, numpy=array([7, 4])>"
      ]
     },
     "execution_count": 101,
     "metadata": {},
     "output_type": "execute_result"
    }
   ],
   "source": [
    "tensor2[:, -1]"
   ]
  },
  {
   "cell_type": "code",
   "execution_count": 102,
   "metadata": {},
   "outputs": [
    {
     "data": {
      "text/plain": [
       "<tf.Tensor: shape=(2, 2, 1), dtype=int32, numpy=\n",
       "array([[[10],\n",
       "        [ 7]],\n",
       "\n",
       "       [[ 3],\n",
       "        [ 4]]])>"
      ]
     },
     "execution_count": 102,
     "metadata": {},
     "output_type": "execute_result"
    }
   ],
   "source": [
    "tensor3 = tensor2[..., tf.newaxis]\n",
    "tensor3"
   ]
  },
  {
   "cell_type": "code",
   "execution_count": 108,
   "metadata": {},
   "outputs": [
    {
     "data": {
      "text/plain": [
       "(<tf.Tensor: shape=(2, 2), dtype=int32, numpy=\n",
       " array([[10,  7],\n",
       "        [ 3,  4]])>,\n",
       " <tf.Tensor: shape=(2,), dtype=int32, numpy=array([20, 17])>)"
      ]
     },
     "execution_count": 108,
     "metadata": {},
     "output_type": "execute_result"
    }
   ],
   "source": [
    "tensor = tf.constant([[10, 7],[3, 4]])\n",
    "tensor, tensor[0]+ 10"
   ]
  },
  {
   "cell_type": "code",
   "execution_count": 110,
   "metadata": {},
   "outputs": [
    {
     "name": "stdout",
     "output_type": "stream",
     "text": [
      "tf.Tensor(\n",
      "[[121  98]\n",
      " [ 42  37]], shape=(2, 2), dtype=int32)\n"
     ]
    }
   ],
   "source": [
    "tensor2\n",
    "print(tf.linalg.matmul(tensor, tensor2))"
   ]
  },
  {
   "cell_type": "code",
   "execution_count": 123,
   "metadata": {},
   "outputs": [
    {
     "name": "stdout",
     "output_type": "stream",
     "text": [
      "tf.Tensor(\n",
      "[[1 2]\n",
      " [3 4]\n",
      " [5 6]], shape=(3, 2), dtype=int32)\n",
      "(3, 2)\n",
      "tf.Tensor(\n",
      "[[1 2]\n",
      " [3 4]\n",
      " [5 6]], shape=(3, 2), dtype=int32)\n",
      "tf.Tensor(\n",
      "[[1 2]\n",
      " [3 4]\n",
      " [5 6]], shape=(3, 2), dtype=int32)\n",
      "tf.Tensor(\n",
      "[[1 3 5]\n",
      " [2 4 6]], shape=(2, 3), dtype=int32)\n"
     ]
    }
   ],
   "source": [
    "x = tf.constant([[1,2],\n",
    "                 [3,4],\n",
    "                 [5,6]])\n",
    "print(x)\n",
    "print(x.shape)\n",
    "y = tf.constant(x)\n",
    "print(y)\n",
    "print(tf.reshape(y, shape=(3,2)))\n",
    "print(tf.transpose(y))"
   ]
  },
  {
   "cell_type": "code",
   "execution_count": 125,
   "metadata": {},
   "outputs": [
    {
     "name": "stdout",
     "output_type": "stream",
     "text": [
      "Normal Y: tf.Tensor(\n",
      "[[1 2]\n",
      " [3 4]\n",
      " [5 6]], shape=(3, 2), dtype=int32)\n",
      "Transpose Y: tf.Tensor(\n",
      "[[1 3 5]\n",
      " [2 4 6]], shape=(2, 3), dtype=int32)\n",
      "Reshape Y: tf.Tensor(\n",
      "[[1 2 3]\n",
      " [4 5 6]], shape=(2, 3), dtype=int32)\n"
     ]
    }
   ],
   "source": [
    "print(\"Normal Y:\", y)\n",
    "print(\"Transpose Y:\", tf.transpose(y))\n",
    "print(\"Reshape Y:\", tf.reshape(y, shape=(2,3)))"
   ]
  },
  {
   "cell_type": "code",
   "execution_count": 132,
   "metadata": {},
   "outputs": [
    {
     "data": {
      "text/plain": [
       "<tf.Tensor: shape=(3,), dtype=float32, numpy=array([1. , 2.5, 3. ], dtype=float32)>"
      ]
     },
     "execution_count": 132,
     "metadata": {},
     "output_type": "execute_result"
    }
   ],
   "source": [
    "C = tf.constant([1,2.5,3])\n",
    "C\n"
   ]
  },
  {
   "cell_type": "code",
   "execution_count": 134,
   "metadata": {},
   "outputs": [
    {
     "data": {
      "text/plain": [
       "<tf.Tensor: shape=(3,), dtype=float16, numpy=array([1. , 2.5, 3. ], dtype=float16)>"
      ]
     },
     "execution_count": 134,
     "metadata": {},
     "output_type": "execute_result"
    }
   ],
   "source": [
    "D = tf.cast(C, dtype=tf.float16)\n",
    "D"
   ]
  },
  {
   "cell_type": "code",
   "execution_count": 3,
   "metadata": {},
   "outputs": [
    {
     "data": {
      "text/plain": [
       "<tf.Tensor: shape=(100, 100), dtype=float32, numpy=\n",
       "array([[-0.7565803 , -0.06854702,  0.07595026, ..., -0.3741098 ,\n",
       "        -0.28709963,  1.5089895 ],\n",
       "       [-0.14833727, -1.2846565 ,  0.5484313 , ...,  0.0044825 ,\n",
       "         0.16218606, -2.2107327 ],\n",
       "       [-0.897285  ,  1.17089   , -0.70234615, ..., -1.0718341 ,\n",
       "        -1.0722276 , -0.00586287],\n",
       "       ...,\n",
       "       [-0.04875139,  0.4720202 , -0.1468142 , ..., -0.16058625,\n",
       "         0.30491093, -0.08115519],\n",
       "       [ 1.4559728 ,  0.702725  , -0.49598402, ..., -0.5274568 ,\n",
       "         0.50659525,  0.35393006],\n",
       "       [-0.9073771 ,  1.9859369 , -0.12666915, ...,  0.5728476 ,\n",
       "        -0.7579853 , -0.10818893]], dtype=float32)>"
      ]
     },
     "execution_count": 3,
     "metadata": {},
     "output_type": "execute_result"
    }
   ],
   "source": [
    "E = tf.random.Generator.from_seed(42)\n",
    "E = E.normal(shape=(100,100))\n",
    "E"
   ]
  },
  {
   "cell_type": "code",
   "execution_count": 2,
   "metadata": {},
   "outputs": [
    {
     "name": "stdout",
     "output_type": "stream",
     "text": [
      "tf.Tensor(0.97676873, shape=(), dtype=float32)\n"
     ]
    }
   ],
   "source": [
    "import tensorflow as tf\n",
    "E = tf.random.Generator.from_seed(42)\n",
    "E = E.normal(shape=(100,100))\n",
    "print(tf.math.reduce_variance(E))"
   ]
  },
  {
   "cell_type": "code",
   "execution_count": 6,
   "metadata": {},
   "outputs": [
    {
     "data": {
      "text/plain": [
       "<tf.Tensor: shape=(50,), dtype=float32, numpy=\n",
       "array([0.6645621 , 0.44100678, 0.3528825 , 0.46448255, 0.03366041,\n",
       "       0.68467236, 0.74011743, 0.8724445 , 0.22632635, 0.22319686,\n",
       "       0.3103881 , 0.7223358 , 0.13318717, 0.5480639 , 0.5746088 ,\n",
       "       0.8996835 , 0.00946367, 0.5212307 , 0.6345445 , 0.1993283 ,\n",
       "       0.72942245, 0.54583454, 0.10756552, 0.6767061 , 0.6602763 ,\n",
       "       0.33695042, 0.60141766, 0.21062577, 0.8527372 , 0.44062173,\n",
       "       0.9485276 , 0.23752594, 0.81179297, 0.5263394 , 0.494308  ,\n",
       "       0.21612847, 0.8457197 , 0.8718841 , 0.3083862 , 0.6868038 ,\n",
       "       0.23764038, 0.7817228 , 0.9671384 , 0.06870162, 0.79873943,\n",
       "       0.66028714, 0.5871513 , 0.16461694, 0.7381023 , 0.32054043],\n",
       "      dtype=float32)>"
      ]
     },
     "execution_count": 6,
     "metadata": {},
     "output_type": "execute_result"
    }
   ],
   "source": [
    "F= tf.random.set_seed(42)\n",
    "F = tf.random.uniform(shape=[50])\n",
    "F"
   ]
  },
  {
   "cell_type": "code",
   "execution_count": 11,
   "metadata": {},
   "outputs": [
    {
     "name": "stdout",
     "output_type": "stream",
     "text": [
      "tf.Tensor(42, shape=(), dtype=int64)\n",
      "tf.Tensor(0.9671384, shape=(), dtype=float32)\n"
     ]
    }
   ],
   "source": [
    "print(tf.argmax(F))\n",
    "print(F[tf.argmax(F)])"
   ]
  },
  {
   "cell_type": "code",
   "execution_count": 14,
   "metadata": {},
   "outputs": [
    {
     "data": {
      "text/plain": [
       "<tf.Tensor: shape=(1, 1, 1, 1, 50), dtype=float32, numpy=\n",
       "array([[[[[0.6645621 , 0.44100678, 0.3528825 , 0.46448255, 0.03366041,\n",
       "           0.68467236, 0.74011743, 0.8724445 , 0.22632635, 0.22319686,\n",
       "           0.3103881 , 0.7223358 , 0.13318717, 0.5480639 , 0.5746088 ,\n",
       "           0.8996835 , 0.00946367, 0.5212307 , 0.6345445 , 0.1993283 ,\n",
       "           0.72942245, 0.54583454, 0.10756552, 0.6767061 , 0.6602763 ,\n",
       "           0.33695042, 0.60141766, 0.21062577, 0.8527372 , 0.44062173,\n",
       "           0.9485276 , 0.23752594, 0.81179297, 0.5263394 , 0.494308  ,\n",
       "           0.21612847, 0.8457197 , 0.8718841 , 0.3083862 , 0.6868038 ,\n",
       "           0.23764038, 0.7817228 , 0.9671384 , 0.06870162, 0.79873943,\n",
       "           0.66028714, 0.5871513 , 0.16461694, 0.7381023 , 0.32054043]]]]],\n",
       "      dtype=float32)>"
      ]
     },
     "execution_count": 14,
     "metadata": {},
     "output_type": "execute_result"
    }
   ],
   "source": [
    "tf.random.set_seed(42)\n",
    "G = tf.constant(tf.random.uniform(shape=[50]), shape=(1,1,1,1,50))\n",
    "G"
   ]
  },
  {
   "cell_type": "code",
   "execution_count": 18,
   "metadata": {},
   "outputs": [
    {
     "data": {
      "text/plain": [
       "(5, 5)"
      ]
     },
     "execution_count": 18,
     "metadata": {},
     "output_type": "execute_result"
    }
   ],
   "source": [
    "G.ndim, G.ndim"
   ]
  },
  {
   "cell_type": "code",
   "execution_count": 22,
   "metadata": {},
   "outputs": [
    {
     "data": {
      "text/plain": [
       "<tf.Tensor: shape=(50,), dtype=float32, numpy=\n",
       "array([0.6645621 , 0.44100678, 0.3528825 , 0.46448255, 0.03366041,\n",
       "       0.68467236, 0.74011743, 0.8724445 , 0.22632635, 0.22319686,\n",
       "       0.3103881 , 0.7223358 , 0.13318717, 0.5480639 , 0.5746088 ,\n",
       "       0.8996835 , 0.00946367, 0.5212307 , 0.6345445 , 0.1993283 ,\n",
       "       0.72942245, 0.54583454, 0.10756552, 0.6767061 , 0.6602763 ,\n",
       "       0.33695042, 0.60141766, 0.21062577, 0.8527372 , 0.44062173,\n",
       "       0.9485276 , 0.23752594, 0.81179297, 0.5263394 , 0.494308  ,\n",
       "       0.21612847, 0.8457197 , 0.8718841 , 0.3083862 , 0.6868038 ,\n",
       "       0.23764038, 0.7817228 , 0.9671384 , 0.06870162, 0.79873943,\n",
       "       0.66028714, 0.5871513 , 0.16461694, 0.7381023 , 0.32054043],\n",
       "      dtype=float32)>"
      ]
     },
     "execution_count": 22,
     "metadata": {},
     "output_type": "execute_result"
    }
   ],
   "source": [
    "G_squeezed = tf.squeeze(G)\n",
    "G_squeezed"
   ]
  },
  {
   "cell_type": "code",
   "execution_count": 31,
   "metadata": {},
   "outputs": [
    {
     "data": {
      "text/plain": [
       "<tf.Tensor: shape=(4, 4), dtype=float32, numpy=\n",
       "array([[1., 0., 0., 0.],\n",
       "       [0., 1., 0., 0.],\n",
       "       [0., 0., 1., 0.],\n",
       "       [0., 0., 0., 1.]], dtype=float32)>"
      ]
     },
     "execution_count": 31,
     "metadata": {},
     "output_type": "execute_result"
    }
   ],
   "source": [
    "somelist = [0,1,2,3]\n",
    "tf.one_hot(somelist, depth=4)"
   ]
  },
  {
   "cell_type": "code",
   "execution_count": 33,
   "metadata": {},
   "outputs": [
    {
     "data": {
      "text/plain": [
       "<tf.Tensor: shape=(4, 4), dtype=string, numpy=\n",
       "array([[b'On', b'Off', b'Off', b'Off'],\n",
       "       [b'Off', b'On', b'Off', b'Off'],\n",
       "       [b'Off', b'Off', b'On', b'Off'],\n",
       "       [b'Off', b'Off', b'Off', b'On']], dtype=object)>"
      ]
     },
     "execution_count": 33,
     "metadata": {},
     "output_type": "execute_result"
    }
   ],
   "source": [
    "tf.one_hot(somelist, depth=4, on_value='On', off_value='Off')"
   ]
  },
  {
   "cell_type": "code",
   "execution_count": 37,
   "metadata": {},
   "outputs": [
    {
     "name": "stdout",
     "output_type": "stream",
     "text": [
      "tf.Tensor([ 1  4  9 16 25 36 49 64 81], shape=(9,), dtype=int32)\n"
     ]
    },
    {
     "data": {
      "text/plain": [
       "<tf.Tensor: shape=(9,), dtype=int32, numpy=array([1, 2, 3, 4, 5, 6, 7, 8, 9])>"
      ]
     },
     "execution_count": 37,
     "metadata": {},
     "output_type": "execute_result"
    }
   ],
   "source": [
    "H = tf.range(1, 10)\n",
    "print(tf.square(H))\n",
    "H"
   ]
  },
  {
   "cell_type": "code",
   "execution_count": 40,
   "metadata": {},
   "outputs": [
    {
     "data": {
      "text/plain": [
       "<tf.Tensor: shape=(4,), dtype=int32, numpy=array([1, 2, 3, 4])>"
      ]
     },
     "execution_count": 40,
     "metadata": {},
     "output_type": "execute_result"
    }
   ],
   "source": [
    "import numpy as np\n",
    "J = tf.constant(np.array([1,2,3,4]))\n",
    "J"
   ]
  },
  {
   "cell_type": "code",
   "execution_count": 42,
   "metadata": {},
   "outputs": [
    {
     "data": {
      "text/plain": [
       "numpy.ndarray"
      ]
     },
     "execution_count": 42,
     "metadata": {},
     "output_type": "execute_result"
    }
   ],
   "source": [
    "type(J)\n",
    "type(J.numpy())"
   ]
  },
  {
   "cell_type": "markdown",
   "metadata": {},
   "source": [
    "EXERCISE"
   ]
  },
  {
   "cell_type": "code",
   "execution_count": 2,
   "metadata": {},
   "outputs": [],
   "source": [
    "import tensorflow as tf\n",
    "import numpy as np"
   ]
  },
  {
   "cell_type": "code",
   "execution_count": 3,
   "metadata": {},
   "outputs": [
    {
     "name": "stdout",
     "output_type": "stream",
     "text": [
      "tf.Tensor(10, shape=(), dtype=int32)\n",
      "tf.Tensor([10 20 30], shape=(3,), dtype=int32)\n",
      "tf.Tensor(\n",
      "[[10 20]\n",
      " [30 40]], shape=(2, 2), dtype=int32)\n",
      "tf.Tensor(\n",
      "[[[10]\n",
      "  [20]]\n",
      "\n",
      " [[30]\n",
      "  [40]]], shape=(2, 2, 1), dtype=int32)\n"
     ]
    }
   ],
   "source": [
    "vector = tf.constant(10)\n",
    "print(vector)\n",
    "scalar = tf.constant([10, 20, 30])\n",
    "print(scalar)\n",
    "matrix = tf.constant([[10, 20],\n",
    "                      [30, 40]])\n",
    "print(matrix)\n",
    "tensor = tf.constant([[[10],[20]],[[30],[40]]])\n",
    "print(tensor)"
   ]
  },
  {
   "cell_type": "code",
   "execution_count": 4,
   "metadata": {},
   "outputs": [
    {
     "name": "stdout",
     "output_type": "stream",
     "text": [
      "() 0 tf.Tensor(1, shape=(), dtype=int32)\n",
      "(3,) 1 tf.Tensor(3, shape=(), dtype=int32)\n",
      "(2, 2) 2 tf.Tensor(4, shape=(), dtype=int32)\n",
      "(2, 2, 1) 3 tf.Tensor(4, shape=(), dtype=int32)\n"
     ]
    }
   ],
   "source": [
    "print(vector.shape, vector.ndim, tf.size(vector))\n",
    "print(scalar.shape, scalar.ndim, tf.size(scalar))\n",
    "print(matrix.shape, matrix.ndim, tf.size(matrix))\n",
    "print(tensor.shape, tensor.ndim, tf.size(tensor))"
   ]
  },
  {
   "cell_type": "code",
   "execution_count": 13,
   "metadata": {},
   "outputs": [
    {
     "data": {
      "text/plain": [
       "<tf.Tensor: shape=(5, 300), dtype=float32, numpy=\n",
       "array([[0.25582302, 0.85153854, 0.6300348 , ..., 0.85241103, 0.47931814,\n",
       "        0.29273927],\n",
       "       [0.1918323 , 0.6157763 , 0.4505397 , ..., 0.04304302, 0.5402771 ,\n",
       "        0.7534255 ],\n",
       "       [0.9456587 , 0.9493699 , 0.13307011, ..., 0.18224645, 0.50680923,\n",
       "        0.73411083],\n",
       "       [0.57366514, 0.445521  , 0.01820827, ..., 0.6891072 , 0.14001143,\n",
       "        0.12638724],\n",
       "       [0.08435595, 0.51331687, 0.7013862 , ..., 0.6301166 , 0.86020017,\n",
       "        0.93512106]], dtype=float32)>"
      ]
     },
     "execution_count": 13,
     "metadata": {},
     "output_type": "execute_result"
    }
   ],
   "source": [
    "tensor1 = tf.random.uniform(shape=(5, 300))\n",
    "tensor1"
   ]
  },
  {
   "cell_type": "code",
   "execution_count": 14,
   "metadata": {},
   "outputs": [
    {
     "data": {
      "text/plain": [
       "<tf.Tensor: shape=(5, 300), dtype=float32, numpy=\n",
       "array([[0.37020636, 0.37435293, 0.0816654 , ..., 0.8290738 , 0.96353793,\n",
       "        0.6271162 ],\n",
       "       [0.9262465 , 0.13570356, 0.66506743, ..., 0.9753077 , 0.2603302 ,\n",
       "        0.47416532],\n",
       "       [0.30618548, 0.17960238, 0.35634768, ..., 0.19133627, 0.04732323,\n",
       "        0.71456397],\n",
       "       [0.17287433, 0.8388939 , 0.58046186, ..., 0.7330228 , 0.5733161 ,\n",
       "        0.0555861 ],\n",
       "       [0.6329119 , 0.39002848, 0.7403214 , ..., 0.98115385, 0.7590109 ,\n",
       "        0.48232973]], dtype=float32)>"
      ]
     },
     "execution_count": 14,
     "metadata": {},
     "output_type": "execute_result"
    }
   ],
   "source": [
    "tensor2 = tf.random.uniform(shape=(5,300))\n",
    "tensor2"
   ]
  },
  {
   "cell_type": "code",
   "execution_count": 16,
   "metadata": {},
   "outputs": [
    {
     "data": {
      "text/plain": [
       "<tf.Tensor: shape=(5, 5), dtype=float32, numpy=\n",
       "array([[74.17111 , 80.705826, 76.655075, 76.45989 , 75.846855],\n",
       "       [76.22114 , 77.24733 , 74.64158 , 76.81625 , 73.66083 ],\n",
       "       [71.56465 , 71.79433 , 71.14218 , 72.719185, 71.63349 ],\n",
       "       [74.33443 , 78.89995 , 73.11275 , 76.242805, 76.24185 ],\n",
       "       [75.68113 , 74.65414 , 70.2192  , 71.520615, 72.71155 ]],\n",
       "      dtype=float32)>"
      ]
     },
     "execution_count": 16,
     "metadata": {},
     "output_type": "execute_result"
    }
   ],
   "source": [
    "mul = tf.matmul(tensor1, tf.transpose(tensor2))\n",
    "mul"
   ]
  },
  {
   "cell_type": "code",
   "execution_count": 18,
   "metadata": {},
   "outputs": [
    {
     "data": {
      "text/plain": [
       "<tf.Tensor: shape=(5, 5), dtype=float32, numpy=\n",
       "array([[74.17111 , 80.705826, 76.655075, 76.45989 , 75.846855],\n",
       "       [76.22114 , 77.24733 , 74.64158 , 76.81625 , 73.66083 ],\n",
       "       [71.56465 , 71.79433 , 71.14218 , 72.719185, 71.63349 ],\n",
       "       [74.33443 , 78.89995 , 73.11275 , 76.242805, 76.24185 ],\n",
       "       [75.68113 , 74.65414 , 70.2192  , 71.520615, 72.71155 ]],\n",
       "      dtype=float32)>"
      ]
     },
     "execution_count": 18,
     "metadata": {},
     "output_type": "execute_result"
    }
   ],
   "source": [
    "mul2 = tf.tensordot(tensor1, tf.transpose(tensor2), axes=1)\n",
    "mul2"
   ]
  },
  {
   "cell_type": "code",
   "execution_count": null,
   "metadata": {},
   "outputs": [],
   "source": []
  }
 ],
 "metadata": {
  "kernelspec": {
   "display_name": "tensor",
   "language": "python",
   "name": "python3"
  },
  "language_info": {
   "codemirror_mode": {
    "name": "ipython",
    "version": 3
   },
   "file_extension": ".py",
   "mimetype": "text/x-python",
   "name": "python",
   "nbconvert_exporter": "python",
   "pygments_lexer": "ipython3",
   "version": "3.10.14"
  }
 },
 "nbformat": 4,
 "nbformat_minor": 2
}
